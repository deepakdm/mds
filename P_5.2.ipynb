{
 "cells": [
  {
   "cell_type": "code",
   "execution_count": 1,
   "metadata": {},
   "outputs": [],
   "source": [
    "group1 = [51, 45, 33, 45, 67]\n",
    "group2 = [23, 43, 23, 43, 45]\n",
    "group3 = [56, 76, 74, 87, 56]"
   ]
  },
  {
   "cell_type": "code",
   "execution_count": 2,
   "metadata": {},
   "outputs": [],
   "source": [
    "def genMean(data):\n",
    "    summation = sum(data)\n",
    "    count = len(data)\n",
    "    return summation/count"
   ]
  },
  {
   "cell_type": "code",
   "execution_count": 3,
   "metadata": {},
   "outputs": [],
   "source": [
    "import math\n",
    "def genVariance(data, mean):  \n",
    "    tmp = 0\n",
    "    count = len(data)\n",
    "    \n",
    "    for x in data:\n",
    "        tmp += math.pow((x - mean), 2)\n",
    "    \n",
    "    variance = tmp / (count - 1);\n",
    "    \n",
    "    return variance"
   ]
  },
  {
   "cell_type": "code",
   "execution_count": 4,
   "metadata": {},
   "outputs": [],
   "source": [
    "def genStdDev(data, mean):\n",
    "    return (data - mean) ** 2"
   ]
  },
  {
   "cell_type": "code",
   "execution_count": 5,
   "metadata": {},
   "outputs": [],
   "source": [
    "mean1 = genMean(group1)\n",
    "mean2 = genMean(group2)\n",
    "mean3 = genMean(group3)\n",
    "\n",
    "# Grand Mean\n",
    "gMean = (mean1 + mean2 + mean3) / 3"
   ]
  },
  {
   "cell_type": "code",
   "execution_count": 6,
   "metadata": {},
   "outputs": [],
   "source": [
    "# ANOVA table\n",
    "var1 = genVariance(group1, mean1)\n",
    "var2 = genVariance(group2, mean2)\n",
    "var3 = genVariance(group3, mean3)\n",
    "\n",
    "# Mean Square Error and Degree of Freedom \n",
    "meanSqErr = (var1 + var2 + var3) / 3\n",
    "dfError = len(group1) -1 + len(group2) -1 + len(group3) -1 \n",
    "\n",
    "# Sum of squared deviations from the mean (SS)\n",
    "ssError = meanSqErr * dfError"
   ]
  },
  {
   "cell_type": "code",
   "execution_count": 7,
   "metadata": {},
   "outputs": [],
   "source": [
    "# Variance of the sample means\n",
    "sMean = [mean1, mean2, mean3]\n",
    "\n",
    "gMean = genMean(sMean)\n",
    "gVar = genVariance(sMean, gMean)\n",
    "gMeanErr = (var1 + var2 + var3) / 3\n",
    "\n",
    "# Sum of squares (SSmeans)\n",
    "smSquare = 0\n",
    "smSquare += genStdDev(mean1, gMean)\n",
    "smSquare += genStdDev(mean2, gMean)\n",
    "smSquare += genStdDev(mean3, gMean)\n",
    "\n",
    "size = len(sMean) - 1\n",
    "varMeans = (smSquare)/size\n",
    "\n",
    "# Estimating the variance IS sensitive to group mean differences\n",
    "msBetween = varMeans * 5\n",
    "\n",
    "ssGroup = msBetween * size\n",
    "\n",
    "# Test statistic and critical value\n",
    "F = msBetween / meanSqErr"
   ]
  },
  {
   "cell_type": "code",
   "execution_count": 8,
   "metadata": {},
   "outputs": [
    {
     "name": "stdout",
     "output_type": "stream",
     "text": [
      "302.2933333333333 51.133333333333326 1511.4666666666665 3022.933333333333 155.06666666666666\n"
     ]
    }
   ],
   "source": [
    "print(varMeans, gMean, msBetween, ssGroup, meanSqErr)"
   ]
  },
  {
   "cell_type": "code",
   "execution_count": 9,
   "metadata": {},
   "outputs": [
    {
     "name": "stdout",
     "output_type": "stream",
     "text": [
      "group SS 3022.933333333333\n",
      "group df 2\n",
      "group mS 1511.4666666666665\n",
      "group F 9.747205503009457\n",
      "error SS 1860.8\n",
      "error df 12\n",
      "error mS 155.06666666666666\n",
      "Total 4883.733333333333\n"
     ]
    }
   ],
   "source": [
    "print(\"group SS\", ssGroup)\n",
    "print(\"group df\", size)\n",
    "print(\"group mS\", msBetween)\n",
    "print(\"group F\", F)\n",
    "\n",
    "print(\"error SS\", ssError)\n",
    "print(\"error df\", dfError)\n",
    "print(\"error mS\", meanSqErr)\n",
    "\n",
    "print(\"Total\", ssGroup + ssError)"
   ]
  },
  {
   "cell_type": "code",
   "execution_count": 10,
   "metadata": {},
   "outputs": [
    {
     "name": "stdout",
     "output_type": "stream",
     "text": [
      "Fcritical(2,12) = 3.89\n",
      "Decision: reject H0\n",
      "Effect size\n",
      "η2=3022.94883.7=0.62\n",
      "APA writeup\n",
      "F(2, 12)=9.75, p <0.05, η2=0.62.\n"
     ]
    }
   ],
   "source": [
    "print(\"Fcritical(2,12) = 3.89\")\n",
    "print(\"Decision: reject H0\")\n",
    "print(\"Effect size\")\n",
    "print(\"η2=3022.94883.7=0.62\")\n",
    "print(\"APA writeup\")\n",
    "print(\"F(2, 12)=9.75, p <0.05, η2=0.62.\")"
   ]
  }
 ],
 "metadata": {
  "kernelspec": {
   "display_name": "Python 3",
   "language": "python",
   "name": "python3"
  },
  "language_info": {
   "codemirror_mode": {
    "name": "ipython",
    "version": 3
   },
   "file_extension": ".py",
   "mimetype": "text/x-python",
   "name": "python",
   "nbconvert_exporter": "python",
   "pygments_lexer": "ipython3",
   "version": "3.6.5"
  }
 },
 "nbformat": 4,
 "nbformat_minor": 2
}
