{
 "cells": [
  {
   "cell_type": "markdown",
   "metadata": {},
   "source": [
    "Problem 1"
   ]
  },
  {
   "cell_type": "code",
   "execution_count": 1,
   "metadata": {},
   "outputs": [],
   "source": [
    "# Parent Class \n",
    "class ParentClass: \n",
    "    # constructor\n",
    "    def __init__(self, sides_no):\n",
    "        self.n = sides_no\n",
    "        self.sides = list()\n",
    "    \n",
    "    # length of the traingle \n",
    "    def enterLengthSides(self): \n",
    "        for i in range(self.n): \n",
    "            side = float(input(\"Enter length of the side \"+str(i+1)+\" : \")) \n",
    "            self.sides.append(side) \n",
    "\n",
    "    # traingle length printed\n",
    "    def printLengthSides(self): \n",
    "        for i in range(self.n): \n",
    "            print(\"Side\",i+1,\"is\",self.sides[i])"
   ]
  },
  {
   "cell_type": "code",
   "execution_count": 2,
   "metadata": {},
   "outputs": [],
   "source": [
    "# Child Class \n",
    "class ChildClass(ParentClass): \n",
    "    # constructor of Parent\n",
    "    def __init__(self): \n",
    "        ParentClass.__init__(self,3) \n",
    "\n",
    "    # area of the traingle \n",
    "    def findTraingleArea(self):\n",
    "        a, b, c = self.sides \n",
    "        s = (a + b + c) / 2 \n",
    "        area = (s*(s-a)*(s-b)*(s-c)) ** 0.5 \n",
    "        print('The area of the triangle is %0.2f' %area)"
   ]
  },
  {
   "cell_type": "code",
   "execution_count": 3,
   "metadata": {},
   "outputs": [
    {
     "name": "stdout",
     "output_type": "stream",
     "text": [
      "Enter length of the side 1 : 3\n",
      "Enter length of the side 2 : 4\n",
      "Enter length of the side 3 : 5\n",
      "\n",
      "\n",
      "Side 1 is 3.0\n",
      "Side 2 is 4.0\n",
      "Side 3 is 5.0\n",
      "\n",
      "\n",
      "The area of the triangle is 6.00\n"
     ]
    }
   ],
   "source": [
    "triangle = ChildClass()\n",
    "triangle.enterLengthSides()\n",
    "print(\"\\n\")\n",
    "triangle.printLengthSides()\n",
    "print(\"\\n\")\n",
    "triangle.findTraingleArea()"
   ]
  },
  {
   "cell_type": "markdown",
   "metadata": {},
   "source": [
    "Problem 2"
   ]
  },
  {
   "cell_type": "code",
   "execution_count": 4,
   "metadata": {},
   "outputs": [],
   "source": [
    "def filter_long_words(listWords, n):\n",
    "    longer_then_nlist =[]\n",
    "\n",
    "    for word in listWords:\n",
    "        if(n < len(word)):\n",
    "            longer_then_nlist.append(word)\n",
    "    \n",
    "    return longer_then_nlist"
   ]
  },
  {
   "cell_type": "code",
   "execution_count": 5,
   "metadata": {},
   "outputs": [
    {
     "data": {
      "text/plain": [
       "['Mynamesdkdskj', 'Machine Learning', 'Data Science']"
      ]
     },
     "execution_count": 5,
     "metadata": {},
     "output_type": "execute_result"
    }
   ],
   "source": [
    "n = 10\n",
    "filter_long_words([\"JKacs\", \"Mynamesdkdskj\", \"dfddf\", \"Machine Learning\", \"Data Science\"], n)"
   ]
  }
 ],
 "metadata": {
  "kernelspec": {
   "display_name": "Python 3",
   "language": "python",
   "name": "python3"
  },
  "language_info": {
   "codemirror_mode": {
    "name": "ipython",
    "version": 3
   },
   "file_extension": ".py",
   "mimetype": "text/x-python",
   "name": "python",
   "nbconvert_exporter": "python",
   "pygments_lexer": "ipython3",
   "version": "3.6.5"
  }
 },
 "nbformat": 4,
 "nbformat_minor": 2
}
