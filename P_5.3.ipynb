{
 "cells": [
  {
   "cell_type": "code",
   "execution_count": 1,
   "metadata": {},
   "outputs": [],
   "source": [
    "input1 = [10, 20, 30, 40, 50]\n",
    "input2 = [5, 10, 15, 20, 25]"
   ]
  },
  {
   "cell_type": "code",
   "execution_count": 2,
   "metadata": {},
   "outputs": [],
   "source": [
    "import math\n",
    "def genMathOperations(data):\n",
    "    summation = sum(data)\n",
    "    count = len(data)\n",
    "    mean = summation/count\n",
    "    \n",
    "    tmp = 0\n",
    "    \n",
    "    for x in data:\n",
    "        tmp += math.pow((x - mean), 2)\n",
    "    \n",
    "    variance = tmp / (count - 1);\n",
    "    std = math.sqrt(tmp)\n",
    "    \n",
    "    return variance"
   ]
  },
  {
   "cell_type": "code",
   "execution_count": 3,
   "metadata": {},
   "outputs": [],
   "source": [
    "def fTest(var1, var2):\n",
    "    return var1 / var2"
   ]
  },
  {
   "cell_type": "code",
   "execution_count": 4,
   "metadata": {},
   "outputs": [
    {
     "name": "stdout",
     "output_type": "stream",
     "text": [
      "F-Test Result:  4.0\n"
     ]
    }
   ],
   "source": [
    "var1 = genMathOperations(input1)\n",
    "var2 = genMathOperations(input2)\n",
    "result = fTest(var1, var2)\n",
    "print(\"F-Test Result: \", result)"
   ]
  }
 ],
 "metadata": {
  "kernelspec": {
   "display_name": "Python 3",
   "language": "python",
   "name": "python3"
  },
  "language_info": {
   "codemirror_mode": {
    "name": "ipython",
    "version": 3
   },
   "file_extension": ".py",
   "mimetype": "text/x-python",
   "name": "python",
   "nbconvert_exporter": "python",
   "pygments_lexer": "ipython3",
   "version": "3.6.5"
  }
 },
 "nbformat": 4,
 "nbformat_minor": 2
}
