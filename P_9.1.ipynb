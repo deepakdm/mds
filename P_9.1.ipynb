{
 "cells": [
  {
   "cell_type": "code",
   "execution_count": 1,
   "metadata": {},
   "outputs": [
    {
     "name": "stderr",
     "output_type": "stream",
     "text": [
      "C:\\Users\\Deepak\\Anaconda3\\lib\\site-packages\\sklearn\\cross_validation.py:41: DeprecationWarning: This module was deprecated in version 0.18 in favor of the model_selection module into which all the refactored classes and functions are moved. Also note that the interface of the new CV iterators are different from that of this module. This module will be removed in 0.20.\n",
      "  \"This module will be removed in 0.20.\", DeprecationWarning)\n"
     ]
    }
   ],
   "source": [
    "import numpy as np \n",
    "import pandas as pd \n",
    "import seaborn as sb \n",
    "import matplotlib.pyplot as plt \n",
    "import sklearn \n",
    "from pandas import Series, DataFrame \n",
    "from pylab import rcParams \n",
    "from sklearn import preprocessing \n",
    "from sklearn.linear_model import LogisticRegression \n",
    "from sklearn.cross_validation import train_test_split \n",
    "from sklearn import metrics \n",
    "from sklearn.metrics import classification_report"
   ]
  },
  {
   "cell_type": "code",
   "execution_count": 2,
   "metadata": {},
   "outputs": [],
   "source": [
    "def fill_missing_age(dataset):\n",
    "    for i in range(1,4):\n",
    "        median_age=dataset[dataset[\"Pclass\"]==i][\"Age\"].median()\n",
    "        dataset[\"Age\"]=dataset[\"Age\"].fillna(median_age)\n",
    "        return dataset"
   ]
  },
  {
   "cell_type": "code",
   "execution_count": 3,
   "metadata": {},
   "outputs": [],
   "source": [
    "titanic = pd.read_csv('titanic-train.csv')\n",
    "columns = ['Pclass', 'Sex', 'Age', 'SibSp', 'Parch', 'Fare', 'Survived']\n",
    "df = pd.DataFrame(titanic, columns=columns)"
   ]
  },
  {
   "cell_type": "code",
   "execution_count": 4,
   "metadata": {},
   "outputs": [],
   "source": [
    "# fill Missing Age\n",
    "df = fill_missing_age(df)\n",
    "\n",
    "# \"Sex\" Coulumn has male/feamle as value\n",
    "# to convert these to int. male:1,female:0\n",
    "from sklearn.preprocessing import LabelEncoder\n",
    "lb = LabelEncoder()\n",
    "df['Sex'] = lb.fit_transform(df['Sex'])"
   ]
  },
  {
   "cell_type": "code",
   "execution_count": 5,
   "metadata": {},
   "outputs": [],
   "source": [
    "X = df.iloc[:,[0,1,2,3,4,5]].values \n",
    "y = df.iloc[:,6]\n",
    "\n",
    "# Splitting data set into Training set & Test set\n",
    "X_train, X_test, y_train, y_test = train_test_split(X, y, test_size=1/4, random_state=0)"
   ]
  },
  {
   "cell_type": "code",
   "execution_count": 6,
   "metadata": {},
   "outputs": [],
   "source": [
    "# Feature scaling\n",
    "from sklearn.preprocessing import  StandardScaler\n",
    "sc = StandardScaler()\n",
    "X_train = sc.fit_transform(X_train)\n",
    "X_test  = sc.fit_transform(X_test)"
   ]
  },
  {
   "cell_type": "code",
   "execution_count": 7,
   "metadata": {},
   "outputs": [],
   "source": [
    "# Fitting  DecisionTree\n",
    "from sklearn.tree import DecisionTreeClassifier\n",
    "classifier = DecisionTreeClassifier(criterion='entropy', random_state=0)\n",
    "classifier.fit(X_train, y_train)\n",
    "y_pred = classifier.predict(X_test)"
   ]
  },
  {
   "cell_type": "code",
   "execution_count": 8,
   "metadata": {},
   "outputs": [
    {
     "name": "stdout",
     "output_type": "stream",
     "text": [
      "             precision    recall  f1-score   support\n",
      "\n",
      "          0       0.80      0.70      0.74       139\n",
      "          1       0.58      0.70      0.64        84\n",
      "\n",
      "avg / total       0.72      0.70      0.70       223\n",
      "\n"
     ]
    }
   ],
   "source": [
    "from sklearn.metrics import confusion_matrix, accuracy_score\n",
    "cm = confusion_matrix(y_test, y_pred)\n",
    "acc_score = accuracy_score(y_test, y_pred)\n",
    "\n",
    "print(classification_report(y_test, y_pred))"
   ]
  },
  {
   "cell_type": "code",
   "execution_count": 9,
   "metadata": {},
   "outputs": [
    {
     "name": "stdout",
     "output_type": "stream",
     "text": [
      "Survival per fold:  [0.982521847690387, 0.9825436408977556, 0.9875311720698254, 0.983790523690773, 0.983790523690773, 0.9825436408977556, 0.983790523690773, 0.983790523690773, 0.9812967581047382, 0.9825436408977556] \n",
      "\n",
      "Avg. Survival:  0.9834142795321311\n"
     ]
    }
   ],
   "source": [
    "from sklearn.cross_validation import KFold\n",
    "cv = KFold(n=len(X), n_folds = 10, random_state=0)\n",
    "\n",
    "X_fold = df.iloc[:,[0,1,2,3,4,5]] \n",
    "y_fold = df.iloc[:,6]\n",
    "\n",
    "fold_accuracy = []\n",
    "\n",
    "for train_fold, valid_fold in cv:\n",
    "    train = X_fold.loc[train_fold]\n",
    "    valid = X_fold.loc[valid_fold]\n",
    "    \n",
    "    train_y = y_fold.loc[train_fold]\n",
    "    valid_y = y_fold.loc[valid_fold]\n",
    "    \n",
    "    model = classifier.fit(X = train, y = train_y)\n",
    "    valid_acc = model.score(X = train, y = train_y)\n",
    "    fold_accuracy.append(valid_acc)\n",
    "    \n",
    "print(\"Survival per fold: \", fold_accuracy, \"\\n\")\n",
    "print(\"Avg. Survival: \", sum(fold_accuracy)/len(fold_accuracy))"
   ]
  },
  {
   "cell_type": "code",
   "execution_count": 10,
   "metadata": {},
   "outputs": [
    {
     "name": "stdout",
     "output_type": "stream",
     "text": [
      "Survival: \n",
      "[0.71666667 0.8        0.76666667 0.71666667 0.75       0.73333333\n",
      " 0.88333333 0.8        0.8        0.84745763 0.84745763 0.71186441\n",
      " 0.84482759 0.77586207 0.94827586]\n",
      "Avg. Survival:  0.7961607896616664\n"
     ]
    }
   ],
   "source": [
    "# First stratified K Fold\n",
    "from sklearn.cross_validation import cross_val_score\n",
    "score = cross_val_score(estimator = classifier, X=X, y=y, scoring=\"accuracy\", cv=15)\n",
    "print(\"Survival: \")\n",
    "print(score)\n",
    "print(\"Avg. Survival: \", score.mean())"
   ]
  }
 ],
 "metadata": {
  "kernelspec": {
   "display_name": "Python 3",
   "language": "python",
   "name": "python3"
  },
  "language_info": {
   "codemirror_mode": {
    "name": "ipython",
    "version": 3
   },
   "file_extension": ".py",
   "mimetype": "text/x-python",
   "name": "python",
   "nbconvert_exporter": "python",
   "pygments_lexer": "ipython3",
   "version": "3.6.5"
  }
 },
 "nbformat": 4,
 "nbformat_minor": 2
}
