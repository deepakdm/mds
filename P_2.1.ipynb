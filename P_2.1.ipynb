{
 "cells": [
  {
   "cell_type": "markdown",
   "metadata": {},
   "source": [
    "Problem 1"
   ]
  },
  {
   "cell_type": "code",
   "execution_count": 1,
   "metadata": {},
   "outputs": [],
   "source": [
    "def add(x,y):\n",
    "    return x+y"
   ]
  },
  {
   "cell_type": "code",
   "execution_count": 2,
   "metadata": {},
   "outputs": [],
   "source": [
    "def myreduce(a,b):\n",
    "    tot = 0\n",
    "    for i in range(a,b):\n",
    "        tot = tot + i\n",
    "    print('myreduce('+str(a)+','+str(b)+') =' ,tot)"
   ]
  },
  {
   "cell_type": "code",
   "execution_count": 3,
   "metadata": {},
   "outputs": [
    {
     "name": "stdout",
     "output_type": "stream",
     "text": [
      "reduce(2,7) = 20\n",
      "myreduce(2,7) = 20\n"
     ]
    }
   ],
   "source": [
    "import functools\n",
    "x = 2\n",
    "y = 7\n",
    "tot = functools.reduce(add, range(x, y))\n",
    "print('reduce('+str(x)+','+str(y)+') =' ,tot)\n",
    "\n",
    "myreduce(x,y)"
   ]
  },
  {
   "cell_type": "markdown",
   "metadata": {},
   "source": [
    "Problem 2"
   ]
  },
  {
   "cell_type": "code",
   "execution_count": 4,
   "metadata": {},
   "outputs": [],
   "source": [
    "a = [1, 2, 3, 4, 5, 6]"
   ]
  },
  {
   "cell_type": "code",
   "execution_count": 5,
   "metadata": {},
   "outputs": [
    {
     "name": "stdout",
     "output_type": "stream",
     "text": [
      "[2, 4, 6]\n"
     ]
    }
   ],
   "source": [
    "import functools\n",
    "res = filter(lambda x : x % 2 == 0, a)\n",
    "print(list(res))"
   ]
  },
  {
   "cell_type": "code",
   "execution_count": 6,
   "metadata": {},
   "outputs": [
    {
     "name": "stdout",
     "output_type": "stream",
     "text": [
      "[2, 4, 6]\n"
     ]
    }
   ],
   "source": [
    "# function that filters even no.s\n",
    "def filterEvenNum(param):\n",
    "    lst = list()\n",
    "    if(param % 2 == 0):\n",
    "        lst.append(param)\n",
    "    \n",
    "    return lst\n",
    "\n",
    "filteredEvens = filter(filterEvenNum, a)\n",
    "\n",
    "print(list(filteredEvens))"
   ]
  }
 ],
 "metadata": {
  "kernelspec": {
   "display_name": "Python 3",
   "language": "python",
   "name": "python3"
  },
  "language_info": {
   "codemirror_mode": {
    "name": "ipython",
    "version": 3
   },
   "file_extension": ".py",
   "mimetype": "text/x-python",
   "name": "python",
   "nbconvert_exporter": "python",
   "pygments_lexer": "ipython3",
   "version": "3.6.5"
  }
 },
 "nbformat": 4,
 "nbformat_minor": 2
}
